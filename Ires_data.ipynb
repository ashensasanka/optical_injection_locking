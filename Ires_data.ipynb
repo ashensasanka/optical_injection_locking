{
 "cells": [
  {
   "cell_type": "code",
   "execution_count": 1,
   "metadata": {},
   "outputs": [
    {
     "name": "stderr",
     "output_type": "stream",
     "text": [
      "c:\\Users\\ashen\\anaconda3\\envs\\detection\\lib\\site-packages\\pandas\\core\\arrays\\masked.py:60: UserWarning: Pandas requires version '1.3.6' or newer of 'bottleneck' (version '1.3.5' currently installed).\n",
      "  from pandas.core import (\n"
     ]
    }
   ],
   "source": [
    "import pandas as pd\n",
    "import numpy as np\n",
    "import seaborn as sns\n",
    "from tensorflow import keras"
   ]
  },
  {
   "cell_type": "code",
   "execution_count": 2,
   "metadata": {},
   "outputs": [
    {
     "data": {
      "text/html": [
       "<div>\n",
       "<style scoped>\n",
       "    .dataframe tbody tr th:only-of-type {\n",
       "        vertical-align: middle;\n",
       "    }\n",
       "\n",
       "    .dataframe tbody tr th {\n",
       "        vertical-align: top;\n",
       "    }\n",
       "\n",
       "    .dataframe thead th {\n",
       "        text-align: right;\n",
       "    }\n",
       "</style>\n",
       "<table border=\"1\" class=\"dataframe\">\n",
       "  <thead>\n",
       "    <tr style=\"text-align: right;\">\n",
       "      <th></th>\n",
       "      <th>id</th>\n",
       "      <th>injection_ratio</th>\n",
       "      <th>detuning_frequency</th>\n",
       "      <th>emitted_light_beam_intensity</th>\n",
       "      <th>angle_with_main_beam</th>\n",
       "      <th>amplitude</th>\n",
       "      <th>affecting_parameter</th>\n",
       "    </tr>\n",
       "  </thead>\n",
       "  <tbody>\n",
       "    <tr>\n",
       "      <th>0</th>\n",
       "      <td>369</td>\n",
       "      <td>-45.00328</td>\n",
       "      <td>0.02039</td>\n",
       "      <td>578.16</td>\n",
       "      <td>11.60</td>\n",
       "      <td>215.28</td>\n",
       "      <td>Temperature</td>\n",
       "    </tr>\n",
       "    <tr>\n",
       "      <th>1</th>\n",
       "      <td>56</td>\n",
       "      <td>-44.91711</td>\n",
       "      <td>-0.16249</td>\n",
       "      <td>578.95</td>\n",
       "      <td>12.66</td>\n",
       "      <td>215.73</td>\n",
       "      <td>Temperature</td>\n",
       "    </tr>\n",
       "    <tr>\n",
       "      <th>2</th>\n",
       "      <td>363</td>\n",
       "      <td>-44.88838</td>\n",
       "      <td>0.47361</td>\n",
       "      <td>578.45</td>\n",
       "      <td>11.70</td>\n",
       "      <td>214.93</td>\n",
       "      <td>Temperature</td>\n",
       "    </tr>\n",
       "    <tr>\n",
       "      <th>3</th>\n",
       "      <td>63</td>\n",
       "      <td>-44.85487</td>\n",
       "      <td>0.16749</td>\n",
       "      <td>576.82</td>\n",
       "      <td>12.53</td>\n",
       "      <td>215.59</td>\n",
       "      <td>Temperature</td>\n",
       "    </tr>\n",
       "    <tr>\n",
       "      <th>4</th>\n",
       "      <td>489</td>\n",
       "      <td>-44.79742</td>\n",
       "      <td>0.29074</td>\n",
       "      <td>578.45</td>\n",
       "      <td>12.81</td>\n",
       "      <td>215.63</td>\n",
       "      <td>Temperature</td>\n",
       "    </tr>\n",
       "  </tbody>\n",
       "</table>\n",
       "</div>"
      ],
      "text/plain": [
       "    id  injection_ratio  detuning_frequency  emitted_light_beam_intensity  \\\n",
       "0  369        -45.00328             0.02039                        578.16   \n",
       "1   56        -44.91711            -0.16249                        578.95   \n",
       "2  363        -44.88838             0.47361                        578.45   \n",
       "3   63        -44.85487             0.16749                        576.82   \n",
       "4  489        -44.79742             0.29074                        578.45   \n",
       "\n",
       "   angle_with_main_beam  amplitude affecting_parameter  \n",
       "0                 11.60     215.28         Temperature  \n",
       "1                 12.66     215.73         Temperature  \n",
       "2                 11.70     214.93         Temperature  \n",
       "3                 12.53     215.59         Temperature  \n",
       "4                 12.81     215.63         Temperature  "
      ]
     },
     "execution_count": 2,
     "metadata": {},
     "output_type": "execute_result"
    }
   ],
   "source": [
    "df = pd.read_csv(\"./optical_injection_locking.csv\")\n",
    "df.head()"
   ]
  },
  {
   "cell_type": "code",
   "execution_count": 3,
   "metadata": {},
   "outputs": [
    {
     "data": {
      "text/plain": [
       "affecting_parameter\n",
       "Slave laser power     257\n",
       "Temperature           255\n",
       "Input power           255\n",
       "Master laser power    255\n",
       "Name: count, dtype: int64"
      ]
     },
     "execution_count": 3,
     "metadata": {},
     "output_type": "execute_result"
    }
   ],
   "source": [
    "df['affecting_parameter'].value_counts()"
   ]
  },
  {
   "cell_type": "code",
   "execution_count": 4,
   "metadata": {},
   "outputs": [
    {
     "name": "stdout",
     "output_type": "stream",
     "text": [
      "<class 'pandas.core.frame.DataFrame'>\n",
      "RangeIndex: 1022 entries, 0 to 1021\n",
      "Data columns (total 7 columns):\n",
      " #   Column                        Non-Null Count  Dtype  \n",
      "---  ------                        --------------  -----  \n",
      " 0   id                            1022 non-null   int64  \n",
      " 1   injection_ratio               1022 non-null   float64\n",
      " 2   detuning_frequency            1022 non-null   float64\n",
      " 3   emitted_light_beam_intensity  1022 non-null   float64\n",
      " 4   angle_with_main_beam          1022 non-null   float64\n",
      " 5   amplitude                     1022 non-null   float64\n",
      " 6   affecting_parameter           1022 non-null   object \n",
      "dtypes: float64(5), int64(1), object(1)\n",
      "memory usage: 56.0+ KB\n"
     ]
    }
   ],
   "source": [
    "df.info()"
   ]
  },
  {
   "cell_type": "code",
   "execution_count": 5,
   "metadata": {},
   "outputs": [
    {
     "data": {
      "text/plain": [
       "id                              0\n",
       "injection_ratio                 0\n",
       "detuning_frequency              0\n",
       "emitted_light_beam_intensity    0\n",
       "angle_with_main_beam            0\n",
       "amplitude                       0\n",
       "affecting_parameter             0\n",
       "dtype: int64"
      ]
     },
     "execution_count": 5,
     "metadata": {},
     "output_type": "execute_result"
    }
   ],
   "source": [
    "df.isnull().sum()"
   ]
  },
  {
   "cell_type": "code",
   "execution_count": 6,
   "metadata": {},
   "outputs": [
    {
     "data": {
      "text/html": [
       "<div>\n",
       "<style scoped>\n",
       "    .dataframe tbody tr th:only-of-type {\n",
       "        vertical-align: middle;\n",
       "    }\n",
       "\n",
       "    .dataframe tbody tr th {\n",
       "        vertical-align: top;\n",
       "    }\n",
       "\n",
       "    .dataframe thead th {\n",
       "        text-align: right;\n",
       "    }\n",
       "</style>\n",
       "<table border=\"1\" class=\"dataframe\">\n",
       "  <thead>\n",
       "    <tr style=\"text-align: right;\">\n",
       "      <th></th>\n",
       "      <th>id</th>\n",
       "      <th>injection_ratio</th>\n",
       "      <th>detuning_frequency</th>\n",
       "      <th>emitted_light_beam_intensity</th>\n",
       "      <th>angle_with_main_beam</th>\n",
       "      <th>amplitude</th>\n",
       "      <th>affecting_parameter</th>\n",
       "    </tr>\n",
       "  </thead>\n",
       "  <tbody>\n",
       "    <tr>\n",
       "      <th>0</th>\n",
       "      <td>369</td>\n",
       "      <td>-45.00328</td>\n",
       "      <td>0.02039</td>\n",
       "      <td>578.16</td>\n",
       "      <td>11.60</td>\n",
       "      <td>215.28</td>\n",
       "      <td>3</td>\n",
       "    </tr>\n",
       "    <tr>\n",
       "      <th>1</th>\n",
       "      <td>56</td>\n",
       "      <td>-44.91711</td>\n",
       "      <td>-0.16249</td>\n",
       "      <td>578.95</td>\n",
       "      <td>12.66</td>\n",
       "      <td>215.73</td>\n",
       "      <td>3</td>\n",
       "    </tr>\n",
       "    <tr>\n",
       "      <th>2</th>\n",
       "      <td>363</td>\n",
       "      <td>-44.88838</td>\n",
       "      <td>0.47361</td>\n",
       "      <td>578.45</td>\n",
       "      <td>11.70</td>\n",
       "      <td>214.93</td>\n",
       "      <td>3</td>\n",
       "    </tr>\n",
       "    <tr>\n",
       "      <th>3</th>\n",
       "      <td>63</td>\n",
       "      <td>-44.85487</td>\n",
       "      <td>0.16749</td>\n",
       "      <td>576.82</td>\n",
       "      <td>12.53</td>\n",
       "      <td>215.59</td>\n",
       "      <td>3</td>\n",
       "    </tr>\n",
       "    <tr>\n",
       "      <th>4</th>\n",
       "      <td>489</td>\n",
       "      <td>-44.79742</td>\n",
       "      <td>0.29074</td>\n",
       "      <td>578.45</td>\n",
       "      <td>12.81</td>\n",
       "      <td>215.63</td>\n",
       "      <td>3</td>\n",
       "    </tr>\n",
       "  </tbody>\n",
       "</table>\n",
       "</div>"
      ],
      "text/plain": [
       "    id  injection_ratio  detuning_frequency  emitted_light_beam_intensity  \\\n",
       "0  369        -45.00328             0.02039                        578.16   \n",
       "1   56        -44.91711            -0.16249                        578.95   \n",
       "2  363        -44.88838             0.47361                        578.45   \n",
       "3   63        -44.85487             0.16749                        576.82   \n",
       "4  489        -44.79742             0.29074                        578.45   \n",
       "\n",
       "   angle_with_main_beam  amplitude  affecting_parameter  \n",
       "0                 11.60     215.28                    3  \n",
       "1                 12.66     215.73                    3  \n",
       "2                 11.70     214.93                    3  \n",
       "3                 12.53     215.59                    3  \n",
       "4                 12.81     215.63                    3  "
      ]
     },
     "execution_count": 6,
     "metadata": {},
     "output_type": "execute_result"
    }
   ],
   "source": [
    "from sklearn.preprocessing import LabelEncoder\n",
    "le = LabelEncoder()\n",
    "df['affecting_parameter'] = le.fit_transform(df['affecting_parameter'])\n",
    "df.head()"
   ]
  },
  {
   "cell_type": "code",
   "execution_count": 7,
   "metadata": {},
   "outputs": [
    {
     "name": "stdout",
     "output_type": "stream",
     "text": [
      "['Input power' 'Master laser power' 'Slave laser power' 'Temperature']\n"
     ]
    }
   ],
   "source": [
    "affecting_parameter_name = le.classes_\n",
    "print(affecting_parameter_name)"
   ]
  },
  {
   "cell_type": "code",
   "execution_count": 8,
   "metadata": {},
   "outputs": [
    {
     "data": {
      "text/html": [
       "<div>\n",
       "<style scoped>\n",
       "    .dataframe tbody tr th:only-of-type {\n",
       "        vertical-align: middle;\n",
       "    }\n",
       "\n",
       "    .dataframe tbody tr th {\n",
       "        vertical-align: top;\n",
       "    }\n",
       "\n",
       "    .dataframe thead th {\n",
       "        text-align: right;\n",
       "    }\n",
       "</style>\n",
       "<table border=\"1\" class=\"dataframe\">\n",
       "  <thead>\n",
       "    <tr style=\"text-align: right;\">\n",
       "      <th></th>\n",
       "      <th>injection_ratio</th>\n",
       "      <th>detuning_frequency</th>\n",
       "      <th>emitted_light_beam_intensity</th>\n",
       "      <th>angle_with_main_beam</th>\n",
       "      <th>amplitude</th>\n",
       "    </tr>\n",
       "  </thead>\n",
       "  <tbody>\n",
       "    <tr>\n",
       "      <th>0</th>\n",
       "      <td>-45.00328</td>\n",
       "      <td>0.02039</td>\n",
       "      <td>578.16</td>\n",
       "      <td>11.60</td>\n",
       "      <td>215.28</td>\n",
       "    </tr>\n",
       "    <tr>\n",
       "      <th>1</th>\n",
       "      <td>-44.91711</td>\n",
       "      <td>-0.16249</td>\n",
       "      <td>578.95</td>\n",
       "      <td>12.66</td>\n",
       "      <td>215.73</td>\n",
       "    </tr>\n",
       "    <tr>\n",
       "      <th>2</th>\n",
       "      <td>-44.88838</td>\n",
       "      <td>0.47361</td>\n",
       "      <td>578.45</td>\n",
       "      <td>11.70</td>\n",
       "      <td>214.93</td>\n",
       "    </tr>\n",
       "  </tbody>\n",
       "</table>\n",
       "</div>"
      ],
      "text/plain": [
       "   injection_ratio  detuning_frequency  emitted_light_beam_intensity  \\\n",
       "0        -45.00328             0.02039                        578.16   \n",
       "1        -44.91711            -0.16249                        578.95   \n",
       "2        -44.88838             0.47361                        578.45   \n",
       "\n",
       "   angle_with_main_beam  amplitude  \n",
       "0                 11.60     215.28  \n",
       "1                 12.66     215.73  \n",
       "2                 11.70     214.93  "
      ]
     },
     "execution_count": 8,
     "metadata": {},
     "output_type": "execute_result"
    }
   ],
   "source": [
    "X = df.drop(columns=['id', 'affecting_parameter'])\n",
    "y = df['affecting_parameter']\n",
    "X.head(3)"
   ]
  },
  {
   "cell_type": "code",
   "execution_count": 9,
   "metadata": {},
   "outputs": [
    {
     "data": {
      "text/plain": [
       "0    3\n",
       "1    3\n",
       "2    3\n",
       "Name: affecting_parameter, dtype: int32"
      ]
     },
     "execution_count": 9,
     "metadata": {},
     "output_type": "execute_result"
    }
   ],
   "source": [
    "y.head(3)"
   ]
  },
  {
   "cell_type": "code",
   "execution_count": 10,
   "metadata": {},
   "outputs": [],
   "source": [
    "from sklearn.model_selection import train_test_split\n",
    "x_train, x_test, y_train, y_test = train_test_split(X, y, test_size=0.3, shuffle=True, random_state=69)"
   ]
  },
  {
   "cell_type": "code",
   "execution_count": 11,
   "metadata": {},
   "outputs": [
    {
     "data": {
      "text/html": [
       "<div>\n",
       "<style scoped>\n",
       "    .dataframe tbody tr th:only-of-type {\n",
       "        vertical-align: middle;\n",
       "    }\n",
       "\n",
       "    .dataframe tbody tr th {\n",
       "        vertical-align: top;\n",
       "    }\n",
       "\n",
       "    .dataframe thead th {\n",
       "        text-align: right;\n",
       "    }\n",
       "</style>\n",
       "<table border=\"1\" class=\"dataframe\">\n",
       "  <thead>\n",
       "    <tr style=\"text-align: right;\">\n",
       "      <th></th>\n",
       "      <th>injection_ratio</th>\n",
       "      <th>detuning_frequency</th>\n",
       "      <th>emitted_light_beam_intensity</th>\n",
       "      <th>angle_with_main_beam</th>\n",
       "      <th>amplitude</th>\n",
       "    </tr>\n",
       "  </thead>\n",
       "  <tbody>\n",
       "    <tr>\n",
       "      <th>589</th>\n",
       "      <td>-29.55869</td>\n",
       "      <td>1.84322</td>\n",
       "      <td>578.87</td>\n",
       "      <td>10.56</td>\n",
       "      <td>215.64</td>\n",
       "    </tr>\n",
       "    <tr>\n",
       "      <th>743</th>\n",
       "      <td>-26.46116</td>\n",
       "      <td>-2.24175</td>\n",
       "      <td>578.24</td>\n",
       "      <td>10.97</td>\n",
       "      <td>215.83</td>\n",
       "    </tr>\n",
       "    <tr>\n",
       "      <th>877</th>\n",
       "      <td>-23.95727</td>\n",
       "      <td>-2.87785</td>\n",
       "      <td>577.24</td>\n",
       "      <td>11.80</td>\n",
       "      <td>215.83</td>\n",
       "    </tr>\n",
       "    <tr>\n",
       "      <th>160</th>\n",
       "      <td>-40.58439</td>\n",
       "      <td>0.54716</td>\n",
       "      <td>578.84</td>\n",
       "      <td>11.31</td>\n",
       "      <td>215.59</td>\n",
       "    </tr>\n",
       "    <tr>\n",
       "      <th>399</th>\n",
       "      <td>-34.09728</td>\n",
       "      <td>-1.11664</td>\n",
       "      <td>578.21</td>\n",
       "      <td>12.01</td>\n",
       "      <td>215.31</td>\n",
       "    </tr>\n",
       "    <tr>\n",
       "      <th>...</th>\n",
       "      <td>...</td>\n",
       "      <td>...</td>\n",
       "      <td>...</td>\n",
       "      <td>...</td>\n",
       "      <td>...</td>\n",
       "    </tr>\n",
       "    <tr>\n",
       "      <th>736</th>\n",
       "      <td>-26.63829</td>\n",
       "      <td>1.89292</td>\n",
       "      <td>577.41</td>\n",
       "      <td>12.84</td>\n",
       "      <td>215.78</td>\n",
       "    </tr>\n",
       "    <tr>\n",
       "      <th>402</th>\n",
       "      <td>-33.94886</td>\n",
       "      <td>-1.14050</td>\n",
       "      <td>578.21</td>\n",
       "      <td>11.95</td>\n",
       "      <td>214.98</td>\n",
       "    </tr>\n",
       "    <tr>\n",
       "      <th>150</th>\n",
       "      <td>-40.84770</td>\n",
       "      <td>-0.15056</td>\n",
       "      <td>578.24</td>\n",
       "      <td>1.56</td>\n",
       "      <td>214.98</td>\n",
       "    </tr>\n",
       "    <tr>\n",
       "      <th>249</th>\n",
       "      <td>-37.92730</td>\n",
       "      <td>-0.83437</td>\n",
       "      <td>577.94</td>\n",
       "      <td>8.26</td>\n",
       "      <td>215.28</td>\n",
       "    </tr>\n",
       "    <tr>\n",
       "      <th>479</th>\n",
       "      <td>-32.12002</td>\n",
       "      <td>-1.50824</td>\n",
       "      <td>578.83</td>\n",
       "      <td>11.76</td>\n",
       "      <td>215.48</td>\n",
       "    </tr>\n",
       "  </tbody>\n",
       "</table>\n",
       "<p>307 rows × 5 columns</p>\n",
       "</div>"
      ],
      "text/plain": [
       "     injection_ratio  detuning_frequency  emitted_light_beam_intensity  \\\n",
       "589        -29.55869             1.84322                        578.87   \n",
       "743        -26.46116            -2.24175                        578.24   \n",
       "877        -23.95727            -2.87785                        577.24   \n",
       "160        -40.58439             0.54716                        578.84   \n",
       "399        -34.09728            -1.11664                        578.21   \n",
       "..               ...                 ...                           ...   \n",
       "736        -26.63829             1.89292                        577.41   \n",
       "402        -33.94886            -1.14050                        578.21   \n",
       "150        -40.84770            -0.15056                        578.24   \n",
       "249        -37.92730            -0.83437                        577.94   \n",
       "479        -32.12002            -1.50824                        578.83   \n",
       "\n",
       "     angle_with_main_beam  amplitude  \n",
       "589                 10.56     215.64  \n",
       "743                 10.97     215.83  \n",
       "877                 11.80     215.83  \n",
       "160                 11.31     215.59  \n",
       "399                 12.01     215.31  \n",
       "..                    ...        ...  \n",
       "736                 12.84     215.78  \n",
       "402                 11.95     214.98  \n",
       "150                  1.56     214.98  \n",
       "249                  8.26     215.28  \n",
       "479                 11.76     215.48  \n",
       "\n",
       "[307 rows x 5 columns]"
      ]
     },
     "execution_count": 11,
     "metadata": {},
     "output_type": "execute_result"
    }
   ],
   "source": [
    "x_test"
   ]
  },
  {
   "cell_type": "code",
   "execution_count": 12,
   "metadata": {},
   "outputs": [
    {
     "data": {
      "text/plain": [
       "(715, 5)"
      ]
     },
     "execution_count": 12,
     "metadata": {},
     "output_type": "execute_result"
    }
   ],
   "source": [
    "x_train.shape"
   ]
  },
  {
   "cell_type": "code",
   "execution_count": 13,
   "metadata": {},
   "outputs": [
    {
     "name": "stdout",
     "output_type": "stream",
     "text": [
      "     injection_ratio  detuning_frequency  emitted_light_beam_intensity  \\\n",
      "544        -30.61674            -1.43469                        578.87   \n",
      "\n",
      "     angle_with_main_beam  amplitude  \n",
      "544                 10.57     215.59  \n",
      "[[ 0.22041463 -0.66982234  0.70757054  0.06289001  0.37651904]]\n",
      "[[0.37471455 1.09256013 0.70757054 0.05999176 0.54805665]]\n"
     ]
    }
   ],
   "source": [
    "from sklearn.preprocessing import StandardScaler\n",
    "sc = StandardScaler()\n",
    "print(x_train[:1])\n",
    "x_train = sc.fit_transform(x_train)\n",
    "x_test = sc.transform(x_test)\n",
    "print(x_train[:1])\n",
    "print(x_test[:1])"
   ]
  },
  {
   "cell_type": "code",
   "execution_count": 14,
   "metadata": {},
   "outputs": [
    {
     "name": "stdout",
     "output_type": "stream",
     "text": [
      "[[0. 1. 0. 0.]\n",
      " [0. 0. 0. 1.]\n",
      " [0. 0. 1. 0.]\n",
      " [0. 0. 0. 1.]\n",
      " [1. 0. 0. 0.]]\n"
     ]
    }
   ],
   "source": [
    "y_train = keras.utils.to_categorical(y_train, num_classes=4)\n",
    "print(y_train[:5])"
   ]
  },
  {
   "cell_type": "code",
   "execution_count": 15,
   "metadata": {},
   "outputs": [],
   "source": [
    "from keras.models import Sequential\n",
    "from keras.layers import Dense, Dropout"
   ]
  },
  {
   "cell_type": "code",
   "execution_count": 16,
   "metadata": {},
   "outputs": [],
   "source": [
    "model = Sequential()\n",
    "model.add(Dense(units=32, activation='relu', input_shape=(x_train.shape[-1], )))\n",
    "model.add(Dense(units=32, activation='relu'))\n",
    "model.add(Dropout(0.5))\n",
    "model.add(Dense(units=4, activation='softmax'))"
   ]
  },
  {
   "cell_type": "code",
   "execution_count": 17,
   "metadata": {},
   "outputs": [
    {
     "name": "stdout",
     "output_type": "stream",
     "text": [
      "Model: \"sequential\"\n",
      "_________________________________________________________________\n",
      " Layer (type)                Output Shape              Param #   \n",
      "=================================================================\n",
      " dense (Dense)               (None, 32)                192       \n",
      "                                                                 \n",
      " dense_1 (Dense)             (None, 32)                1056      \n",
      "                                                                 \n",
      " dropout (Dropout)           (None, 32)                0         \n",
      "                                                                 \n",
      " dense_2 (Dense)             (None, 4)                 132       \n",
      "                                                                 \n",
      "=================================================================\n",
      "Total params: 1380 (5.39 KB)\n",
      "Trainable params: 1380 (5.39 KB)\n",
      "Non-trainable params: 0 (0.00 Byte)\n",
      "_________________________________________________________________\n"
     ]
    }
   ],
   "source": [
    "model.compile(optimizer='Adam', loss='categorical_crossentropy', metrics=['accuracy'])\n",
    "model.summary()"
   ]
  },
  {
   "cell_type": "code",
   "execution_count": 18,
   "metadata": {},
   "outputs": [
    {
     "name": "stdout",
     "output_type": "stream",
     "text": [
      "Epoch 1/100\n",
      "23/23 - 0s - loss: 1.3732 - accuracy: 0.3021 - 475ms/epoch - 21ms/step\n",
      "Epoch 2/100\n",
      "23/23 - 0s - loss: 1.2899 - accuracy: 0.3860 - 19ms/epoch - 835us/step\n",
      "Epoch 3/100\n",
      "23/23 - 0s - loss: 1.1859 - accuracy: 0.4713 - 19ms/epoch - 838us/step\n",
      "Epoch 4/100\n",
      "23/23 - 0s - loss: 1.0846 - accuracy: 0.5007 - 20ms/epoch - 870us/step\n",
      "Epoch 5/100\n",
      "23/23 - 0s - loss: 0.9992 - accuracy: 0.5734 - 21ms/epoch - 913us/step\n",
      "Epoch 6/100\n",
      "23/23 - 0s - loss: 0.9171 - accuracy: 0.5944 - 19ms/epoch - 826us/step\n",
      "Epoch 7/100\n",
      "23/23 - 0s - loss: 0.8408 - accuracy: 0.6182 - 19ms/epoch - 826us/step\n",
      "Epoch 8/100\n",
      "23/23 - 0s - loss: 0.7739 - accuracy: 0.6434 - 19ms/epoch - 826us/step\n",
      "Epoch 9/100\n",
      "23/23 - 0s - loss: 0.7152 - accuracy: 0.7049 - 20ms/epoch - 870us/step\n",
      "Epoch 10/100\n",
      "23/23 - 0s - loss: 0.6728 - accuracy: 0.7147 - 20ms/epoch - 870us/step\n",
      "Epoch 11/100\n",
      "23/23 - 0s - loss: 0.6608 - accuracy: 0.7329 - 19ms/epoch - 826us/step\n",
      "Epoch 12/100\n",
      "23/23 - 0s - loss: 0.6305 - accuracy: 0.7231 - 20ms/epoch - 870us/step\n",
      "Epoch 13/100\n",
      "23/23 - 0s - loss: 0.5969 - accuracy: 0.7538 - 19ms/epoch - 826us/step\n",
      "Epoch 14/100\n",
      "23/23 - 0s - loss: 0.5587 - accuracy: 0.7776 - 20ms/epoch - 870us/step\n",
      "Epoch 15/100\n",
      "23/23 - 0s - loss: 0.5302 - accuracy: 0.7916 - 37ms/epoch - 2ms/step\n",
      "Epoch 16/100\n",
      "23/23 - 0s - loss: 0.5040 - accuracy: 0.8112 - 24ms/epoch - 1ms/step\n",
      "Epoch 17/100\n",
      "23/23 - 0s - loss: 0.4910 - accuracy: 0.8028 - 20ms/epoch - 870us/step\n",
      "Epoch 18/100\n",
      "23/23 - 0s - loss: 0.4526 - accuracy: 0.8280 - 21ms/epoch - 913us/step\n",
      "Epoch 19/100\n",
      "23/23 - 0s - loss: 0.4480 - accuracy: 0.8364 - 20ms/epoch - 870us/step\n",
      "Epoch 20/100\n",
      "23/23 - 0s - loss: 0.4372 - accuracy: 0.8322 - 20ms/epoch - 870us/step\n",
      "Epoch 21/100\n",
      "23/23 - 0s - loss: 0.4137 - accuracy: 0.8378 - 20ms/epoch - 870us/step\n",
      "Epoch 22/100\n",
      "23/23 - 0s - loss: 0.4070 - accuracy: 0.8476 - 20ms/epoch - 870us/step\n",
      "Epoch 23/100\n",
      "23/23 - 0s - loss: 0.3749 - accuracy: 0.8573 - 19ms/epoch - 826us/step\n",
      "Epoch 24/100\n",
      "23/23 - 0s - loss: 0.3881 - accuracy: 0.8685 - 19ms/epoch - 826us/step\n",
      "Epoch 25/100\n",
      "23/23 - 0s - loss: 0.3664 - accuracy: 0.8629 - 19ms/epoch - 826us/step\n",
      "Epoch 26/100\n",
      "23/23 - 0s - loss: 0.3534 - accuracy: 0.8462 - 19ms/epoch - 826us/step\n",
      "Epoch 27/100\n",
      "23/23 - 0s - loss: 0.3385 - accuracy: 0.8797 - 19ms/epoch - 826us/step\n",
      "Epoch 28/100\n",
      "23/23 - 0s - loss: 0.3116 - accuracy: 0.8895 - 19ms/epoch - 827us/step\n",
      "Epoch 29/100\n",
      "23/23 - 0s - loss: 0.2979 - accuracy: 0.8825 - 20ms/epoch - 870us/step\n",
      "Epoch 30/100\n",
      "23/23 - 0s - loss: 0.2986 - accuracy: 0.8923 - 19ms/epoch - 826us/step\n",
      "Epoch 31/100\n",
      "23/23 - 0s - loss: 0.2924 - accuracy: 0.8937 - 19ms/epoch - 826us/step\n",
      "Epoch 32/100\n",
      "23/23 - 0s - loss: 0.2961 - accuracy: 0.8881 - 19ms/epoch - 826us/step\n",
      "Epoch 33/100\n",
      "23/23 - 0s - loss: 0.2736 - accuracy: 0.9077 - 20ms/epoch - 869us/step\n",
      "Epoch 34/100\n",
      "23/23 - 0s - loss: 0.2673 - accuracy: 0.9147 - 20ms/epoch - 870us/step\n",
      "Epoch 35/100\n",
      "23/23 - 0s - loss: 0.2620 - accuracy: 0.9133 - 20ms/epoch - 870us/step\n",
      "Epoch 36/100\n",
      "23/23 - 0s - loss: 0.2496 - accuracy: 0.9091 - 19ms/epoch - 826us/step\n",
      "Epoch 37/100\n",
      "23/23 - 0s - loss: 0.2425 - accuracy: 0.9175 - 20ms/epoch - 869us/step\n",
      "Epoch 38/100\n",
      "23/23 - 0s - loss: 0.2479 - accuracy: 0.9105 - 20ms/epoch - 870us/step\n",
      "Epoch 39/100\n",
      "23/23 - 0s - loss: 0.2284 - accuracy: 0.9245 - 43ms/epoch - 2ms/step\n",
      "Epoch 40/100\n",
      "23/23 - 0s - loss: 0.2240 - accuracy: 0.9217 - 21ms/epoch - 914us/step\n",
      "Epoch 41/100\n",
      "23/23 - 0s - loss: 0.2149 - accuracy: 0.9217 - 20ms/epoch - 866us/step\n",
      "Epoch 42/100\n",
      "23/23 - 0s - loss: 0.2242 - accuracy: 0.9203 - 20ms/epoch - 869us/step\n",
      "Epoch 43/100\n",
      "23/23 - 0s - loss: 0.2079 - accuracy: 0.9315 - 21ms/epoch - 913us/step\n",
      "Epoch 44/100\n",
      "23/23 - 0s - loss: 0.2028 - accuracy: 0.9287 - 20ms/epoch - 870us/step\n",
      "Epoch 45/100\n",
      "23/23 - 0s - loss: 0.2007 - accuracy: 0.9287 - 20ms/epoch - 870us/step\n",
      "Epoch 46/100\n",
      "23/23 - 0s - loss: 0.1875 - accuracy: 0.9385 - 19ms/epoch - 826us/step\n",
      "Epoch 47/100\n",
      "23/23 - 0s - loss: 0.2105 - accuracy: 0.9231 - 20ms/epoch - 870us/step\n",
      "Epoch 48/100\n",
      "23/23 - 0s - loss: 0.1982 - accuracy: 0.9287 - 19ms/epoch - 825us/step\n",
      "Epoch 49/100\n",
      "23/23 - 0s - loss: 0.1756 - accuracy: 0.9455 - 19ms/epoch - 826us/step\n",
      "Epoch 50/100\n",
      "23/23 - 0s - loss: 0.1671 - accuracy: 0.9441 - 20ms/epoch - 869us/step\n",
      "Epoch 51/100\n",
      "23/23 - 0s - loss: 0.1718 - accuracy: 0.9455 - 20ms/epoch - 870us/step\n",
      "Epoch 52/100\n",
      "23/23 - 0s - loss: 0.1818 - accuracy: 0.9441 - 19ms/epoch - 826us/step\n",
      "Epoch 53/100\n",
      "23/23 - 0s - loss: 0.1663 - accuracy: 0.9427 - 19ms/epoch - 826us/step\n",
      "Epoch 54/100\n",
      "23/23 - 0s - loss: 0.1646 - accuracy: 0.9469 - 19ms/epoch - 826us/step\n",
      "Epoch 55/100\n",
      "23/23 - 0s - loss: 0.1630 - accuracy: 0.9385 - 19ms/epoch - 826us/step\n",
      "Epoch 56/100\n",
      "23/23 - 0s - loss: 0.1663 - accuracy: 0.9413 - 19ms/epoch - 826us/step\n",
      "Epoch 57/100\n",
      "23/23 - 0s - loss: 0.1590 - accuracy: 0.9399 - 19ms/epoch - 826us/step\n",
      "Epoch 58/100\n",
      "23/23 - 0s - loss: 0.1510 - accuracy: 0.9455 - 19ms/epoch - 826us/step\n",
      "Epoch 59/100\n",
      "23/23 - 0s - loss: 0.1485 - accuracy: 0.9538 - 19ms/epoch - 826us/step\n",
      "Epoch 60/100\n",
      "23/23 - 0s - loss: 0.1559 - accuracy: 0.9427 - 18ms/epoch - 783us/step\n",
      "Epoch 61/100\n",
      "23/23 - 0s - loss: 0.1569 - accuracy: 0.9524 - 19ms/epoch - 826us/step\n",
      "Epoch 62/100\n",
      "23/23 - 0s - loss: 0.1575 - accuracy: 0.9427 - 19ms/epoch - 826us/step\n",
      "Epoch 63/100\n",
      "23/23 - 0s - loss: 0.1394 - accuracy: 0.9608 - 40ms/epoch - 2ms/step\n",
      "Epoch 64/100\n",
      "23/23 - 0s - loss: 0.1459 - accuracy: 0.9594 - 20ms/epoch - 870us/step\n",
      "Epoch 65/100\n",
      "23/23 - 0s - loss: 0.1422 - accuracy: 0.9538 - 20ms/epoch - 869us/step\n",
      "Epoch 66/100\n",
      "23/23 - 0s - loss: 0.1506 - accuracy: 0.9552 - 20ms/epoch - 870us/step\n",
      "Epoch 67/100\n",
      "23/23 - 0s - loss: 0.1367 - accuracy: 0.9524 - 20ms/epoch - 870us/step\n",
      "Epoch 68/100\n",
      "23/23 - 0s - loss: 0.1352 - accuracy: 0.9524 - 19ms/epoch - 826us/step\n",
      "Epoch 69/100\n",
      "23/23 - 0s - loss: 0.1339 - accuracy: 0.9608 - 20ms/epoch - 870us/step\n",
      "Epoch 70/100\n",
      "23/23 - 0s - loss: 0.1323 - accuracy: 0.9580 - 20ms/epoch - 870us/step\n",
      "Epoch 71/100\n",
      "23/23 - 0s - loss: 0.1402 - accuracy: 0.9566 - 19ms/epoch - 826us/step\n",
      "Epoch 72/100\n",
      "23/23 - 0s - loss: 0.1167 - accuracy: 0.9678 - 19ms/epoch - 826us/step\n",
      "Epoch 73/100\n",
      "23/23 - 0s - loss: 0.1312 - accuracy: 0.9608 - 19ms/epoch - 826us/step\n",
      "Epoch 74/100\n",
      "23/23 - 0s - loss: 0.1214 - accuracy: 0.9650 - 19ms/epoch - 826us/step\n",
      "Epoch 75/100\n",
      "23/23 - 0s - loss: 0.1227 - accuracy: 0.9636 - 19ms/epoch - 826us/step\n",
      "Epoch 76/100\n",
      "23/23 - 0s - loss: 0.1281 - accuracy: 0.9524 - 19ms/epoch - 826us/step\n",
      "Epoch 77/100\n",
      "23/23 - 0s - loss: 0.1230 - accuracy: 0.9566 - 19ms/epoch - 826us/step\n",
      "Epoch 78/100\n",
      "23/23 - 0s - loss: 0.1149 - accuracy: 0.9636 - 19ms/epoch - 826us/step\n",
      "Epoch 79/100\n",
      "23/23 - 0s - loss: 0.1051 - accuracy: 0.9720 - 19ms/epoch - 826us/step\n",
      "Epoch 80/100\n",
      "23/23 - 0s - loss: 0.1114 - accuracy: 0.9706 - 19ms/epoch - 826us/step\n",
      "Epoch 81/100\n",
      "23/23 - 0s - loss: 0.1101 - accuracy: 0.9566 - 20ms/epoch - 870us/step\n",
      "Epoch 82/100\n",
      "23/23 - 0s - loss: 0.1142 - accuracy: 0.9636 - 19ms/epoch - 829us/step\n",
      "Epoch 83/100\n",
      "23/23 - 0s - loss: 0.1136 - accuracy: 0.9594 - 18ms/epoch - 782us/step\n",
      "Epoch 84/100\n",
      "23/23 - 0s - loss: 0.1109 - accuracy: 0.9650 - 18ms/epoch - 783us/step\n",
      "Epoch 85/100\n",
      "23/23 - 0s - loss: 0.1064 - accuracy: 0.9692 - 34ms/epoch - 1ms/step\n",
      "Epoch 86/100\n",
      "23/23 - 0s - loss: 0.1152 - accuracy: 0.9594 - 25ms/epoch - 1ms/step\n",
      "Epoch 87/100\n",
      "23/23 - 0s - loss: 0.1010 - accuracy: 0.9706 - 21ms/epoch - 913us/step\n",
      "Epoch 88/100\n",
      "23/23 - 0s - loss: 0.1015 - accuracy: 0.9678 - 19ms/epoch - 827us/step\n",
      "Epoch 89/100\n",
      "23/23 - 0s - loss: 0.1119 - accuracy: 0.9594 - 19ms/epoch - 842us/step\n",
      "Epoch 90/100\n",
      "23/23 - 0s - loss: 0.1060 - accuracy: 0.9636 - 20ms/epoch - 855us/step\n",
      "Epoch 91/100\n",
      "23/23 - 0s - loss: 0.0961 - accuracy: 0.9748 - 19ms/epoch - 820us/step\n",
      "Epoch 92/100\n",
      "23/23 - 0s - loss: 0.0913 - accuracy: 0.9776 - 19ms/epoch - 829us/step\n",
      "Epoch 93/100\n",
      "23/23 - 0s - loss: 0.0995 - accuracy: 0.9692 - 19ms/epoch - 839us/step\n",
      "Epoch 94/100\n",
      "23/23 - 0s - loss: 0.1001 - accuracy: 0.9664 - 19ms/epoch - 826us/step\n",
      "Epoch 95/100\n",
      "23/23 - 0s - loss: 0.1074 - accuracy: 0.9678 - 19ms/epoch - 826us/step\n",
      "Epoch 96/100\n",
      "23/23 - 0s - loss: 0.0942 - accuracy: 0.9692 - 20ms/epoch - 869us/step\n",
      "Epoch 97/100\n",
      "23/23 - 0s - loss: 0.0968 - accuracy: 0.9706 - 20ms/epoch - 870us/step\n",
      "Epoch 98/100\n",
      "23/23 - 0s - loss: 0.0833 - accuracy: 0.9776 - 19ms/epoch - 826us/step\n",
      "Epoch 99/100\n",
      "23/23 - 0s - loss: 0.0780 - accuracy: 0.9790 - 19ms/epoch - 826us/step\n",
      "Epoch 100/100\n",
      "23/23 - 0s - loss: 0.0910 - accuracy: 0.9678 - 20ms/epoch - 869us/step\n"
     ]
    },
    {
     "data": {
      "text/plain": [
       "<keras.src.callbacks.History at 0x27ee613ed90>"
      ]
     },
     "execution_count": 18,
     "metadata": {},
     "output_type": "execute_result"
    }
   ],
   "source": [
    "model.fit(x_train, y_train, epochs=100, verbose=2)"
   ]
  },
  {
   "cell_type": "code",
   "execution_count": 19,
   "metadata": {},
   "outputs": [
    {
     "data": {
      "text/plain": [
       "array([[ 3.74714555e-01,  1.09256013e+00,  7.07570537e-01,\n",
       "         5.99917603e-02,  5.48056647e-01],\n",
       "       [ 8.26440517e-01, -1.10374163e+00, -1.20954115e-01,\n",
       "         1.78820034e-01,  1.19989954e+00],\n",
       "       [ 1.19159344e+00, -1.44574354e+00, -1.43607261e+00,\n",
       "         4.19374833e-01,  1.19989954e+00],\n",
       "       ...,\n",
       "       [-1.27160975e+00,  2.05957021e-02, -1.20954115e-01,\n",
       "        -2.54843376e+00, -1.71623973e+00],\n",
       "       [-8.45715404e-01, -3.47057696e-01, -5.15489664e-01,\n",
       "        -6.06605874e-01, -6.87014102e-01],\n",
       "       [ 1.18491653e-03, -7.09366811e-01,  6.54965797e-01,\n",
       "         4.07781830e-01, -8.63685839e-04]])"
      ]
     },
     "execution_count": 19,
     "metadata": {},
     "output_type": "execute_result"
    }
   ],
   "source": [
    "x_test"
   ]
  },
  {
   "cell_type": "code",
   "execution_count": 20,
   "metadata": {},
   "outputs": [
    {
     "name": "stdout",
     "output_type": "stream",
     "text": [
      "10/10 [==============================] - 0s 879us/step\n"
     ]
    }
   ],
   "source": [
    "prediction = model.predict(x_test)"
   ]
  },
  {
   "cell_type": "code",
   "execution_count": 21,
   "metadata": {},
   "outputs": [
    {
     "data": {
      "text/plain": [
       "array([0.37471455, 1.09256013, 0.70757054, 0.05999176, 0.54805665])"
      ]
     },
     "execution_count": 21,
     "metadata": {},
     "output_type": "execute_result"
    }
   ],
   "source": [
    "import numpy\n",
    "numpy.array(x_test[0])"
   ]
  },
  {
   "cell_type": "code",
   "execution_count": 71,
   "metadata": {},
   "outputs": [],
   "source": [
    "data1 = 0.37471455\n",
    "data2 = 1.09256013\n",
    "data3 = 0.70757054\n",
    "data4 = 0.05999176\n",
    "data5 = 0.54805665"
   ]
  },
  {
   "cell_type": "code",
   "execution_count": 3,
   "metadata": {},
   "outputs": [
    {
     "name": "stdout",
     "output_type": "stream",
     "text": [
      "1/1 [==============================] - 0s 36ms/step\n",
      "Slave laser power\n"
     ]
    },
    {
     "name": "stderr",
     "output_type": "stream",
     "text": [
      "C:\\Users\\ashen\\AppData\\Roaming\\Python\\Python39\\site-packages\\sklearn\\base.py:464: UserWarning: X does not have valid feature names, but StandardScaler was fitted with feature names\n",
      "  warnings.warn(\n"
     ]
    }
   ],
   "source": [
    "import pandas as pd\n",
    "import numpy as np\n",
    "import seaborn as sns\n",
    "from tensorflow import keras\n",
    "from keras.models import load_model\n",
    "df = pd.read_csv(\"./optical_injection_locking.csv\")\n",
    "from sklearn.preprocessing import LabelEncoder\n",
    "from sklearn.preprocessing import StandardScaler\n",
    "sc = StandardScaler()\n",
    "le = LabelEncoder()\n",
    "df['affecting_parameter'] = le.fit_transform(df['affecting_parameter'])\n",
    "X = df.drop(columns=['id', 'affecting_parameter'])\n",
    "y = df['affecting_parameter']\n",
    "from sklearn.model_selection import train_test_split\n",
    "x_train, x_test, y_train, y_test = train_test_split(X, y, test_size=0.3, shuffle=True, random_state=69)\n",
    "x_train = sc.fit_transform(x_train)\n",
    "model = load_model('optical_injection_locking_model.h5')\n",
    "affecting_parameter_name = le.classes_\n",
    "\n",
    "\n",
    "# Initialize an empty list to store the captured values\n",
    "captured_values = []\n",
    "\n",
    "# Define a while loop that continues indefinitely\n",
    "while True:\n",
    "    # Prompt the user for input\n",
    "    message = input(\"Enter a value (or type 'done' to finish): \")\n",
    "\n",
    "    # Check if the user wants to exit the loop\n",
    "    if message.lower() == 'done':\n",
    "        break  # Exit the loop if the user types 'done'\n",
    "\n",
    "    # Convert the input value to the appropriate data type and append it to the list\n",
    "    try:\n",
    "        value = float(message)  # Convert input to float\n",
    "        captured_values.append(value)\n",
    "    except ValueError:\n",
    "        print(\"Invalid input. Please enter a valid number.\")\n",
    "\n",
    "# Ensure that exactly four values were captured\n",
    "if len(captured_values) == 5:  # Check if exactly five values were captured\n",
    "    # Assign the captured values to data1, data2, data3, and data4\n",
    "    data1, data2, data3, data4, data5 = captured_values\n",
    "    X_new = np.array([[data1 , data2, data3, data4 ,data5]])\n",
    "    x_test = sc.transform(X_new)\n",
    "    prediction = model.predict(x_test)\n",
    "    prediction = np.argmax(prediction, axis=-1)\n",
    "    print(affecting_parameter_name[prediction[:1][0]])\n",
    "    # x1_test = sc.transform([[data1, data2, data3, data4, data5]])\n",
    "    \n",
    "    # Use the model to make predictions\n",
    "    # pred = model.predict([[data1, data2, data3, data4, data5]])\n",
    "    # pred_name = np.argmax(pred, axis=-1)\n",
    "    \n",
    "    # Print the predictions\n",
    "    # print([[data1, data2, data3, data4, data5]].shape())\n",
    "    # print(\"Predictions:\", pred_name)\n",
    "else:\n",
    "    print(\"Please enter exactly five values.\")\n"
   ]
  },
  {
   "cell_type": "code",
   "execution_count": 25,
   "metadata": {},
   "outputs": [
    {
     "name": "stderr",
     "output_type": "stream",
     "text": [
      "c:\\Users\\ashen\\anaconda3\\envs\\detection\\lib\\site-packages\\keras\\src\\engine\\training.py:3079: UserWarning: You are saving your model as an HDF5 file via `model.save()`. This file format is considered legacy. We recommend using instead the native Keras format, e.g. `model.save('my_model.keras')`.\n",
      "  saving_api.save_model(\n"
     ]
    }
   ],
   "source": [
    "model.save('optical_injection_locking_model.h5', model)"
   ]
  },
  {
   "cell_type": "code",
   "execution_count": 83,
   "metadata": {},
   "outputs": [
    {
     "name": "stderr",
     "output_type": "stream",
     "text": [
      "C:\\Users\\ashen\\AppData\\Roaming\\Python\\Python39\\site-packages\\sklearn\\base.py:464: UserWarning: X does not have valid feature names, but StandardScaler was fitted with feature names\n",
      "  warnings.warn(\n"
     ]
    },
    {
     "data": {
      "text/plain": [
       "array([[-0.92230755,  0.88910098, -1.05468825, -0.09071727,  0.37651904]])"
      ]
     },
     "execution_count": 83,
     "metadata": {},
     "output_type": "execute_result"
    }
   ],
   "source": [
    "x_test = sc.transform(X_new)\n",
    "x_test"
   ]
  },
  {
   "cell_type": "code",
   "execution_count": 86,
   "metadata": {},
   "outputs": [
    {
     "name": "stdout",
     "output_type": "stream",
     "text": [
      "1/1 [==============================] - 0s 16ms/step\n",
      "[[8.9910305e-01 6.4823467e-09 1.0121562e-19 1.0089696e-01]]\n",
      "Input power\n"
     ]
    }
   ],
   "source": [
    "prediction = model.predict(x_test)\n",
    "print(prediction[:10])\n",
    "prediction = np.argmax(prediction, axis=-1)\n",
    "print(affecting_parameter_name[prediction[:1][0]])"
   ]
  },
  {
   "cell_type": "code",
   "execution_count": 30,
   "metadata": {},
   "outputs": [
    {
     "data": {
      "text/plain": [
       "array([ 1.19159344, -1.44574354, -1.43607261,  0.41937483,  1.19989954])"
      ]
     },
     "execution_count": 30,
     "metadata": {},
     "output_type": "execute_result"
    }
   ],
   "source": [
    "x_test[2]"
   ]
  },
  {
   "cell_type": "code",
   "execution_count": 62,
   "metadata": {},
   "outputs": [
    {
     "name": "stdout",
     "output_type": "stream",
     "text": [
      "Input power\n"
     ]
    }
   ],
   "source": [
    "prediction = np.argmax(prediction, axis=-1)\n",
    "print(affecting_parameter_name[prediction[:1][0]])"
   ]
  },
  {
   "cell_type": "code",
   "execution_count": 21,
   "metadata": {},
   "outputs": [
    {
     "name": "stdout",
     "output_type": "stream",
     "text": [
      "589    1\n",
      "743    1\n",
      "877    2\n",
      "160    3\n",
      "399    0\n",
      "Name: affecting_parameter, dtype: int32\n"
     ]
    }
   ],
   "source": [
    "print(y_test[:5])"
   ]
  },
  {
   "cell_type": "code",
   "execution_count": 22,
   "metadata": {},
   "outputs": [
    {
     "name": "stdout",
     "output_type": "stream",
     "text": [
      "0.9804560260586319\n"
     ]
    }
   ],
   "source": [
    "from sklearn.metrics import accuracy_score, confusion_matrix\n",
    "print(accuracy_score(y_test, prediction))"
   ]
  },
  {
   "cell_type": "code",
   "execution_count": 23,
   "metadata": {},
   "outputs": [
    {
     "name": "stdout",
     "output_type": "stream",
     "text": [
      "[[72  4  0  0]\n",
      " [ 1 74  0  0]\n",
      " [ 0  1 80  0]\n",
      " [ 0  0  0 75]]\n"
     ]
    }
   ],
   "source": [
    "cm = confusion_matrix(y_test, prediction)\n",
    "print(cm)"
   ]
  },
  {
   "cell_type": "code",
   "execution_count": 25,
   "metadata": {},
   "outputs": [
    {
     "data": {
      "text/plain": [
       "Text(50.72222222222221, 0.5, 'actual')"
      ]
     },
     "execution_count": 25,
     "metadata": {},
     "output_type": "execute_result"
    },
    {
     "data": {
      "image/png": "[encoded data removed]",
      "text/plain": [
       "<Figure size 640x480 with 2 Axes>"
      ]
     },
     "metadata": {},
     "output_type": "display_data"
    }
   ],
   "source": [
    "ax = sns.heatmap(cm, annot=True, fmt='d', cmap='Reds', xticklabels=affecting_parameter_name, yticklabels=affecting_parameter_name)\n",
    "ax.set_title('confusion matrix for irsis dataset prediction')\n",
    "ax.set_xlabel('prediction', fontsize=14)\n",
    "ax.set_ylabel('actual', fontsize=14)"
   ]
  }
 ],
 "metadata": {
  "kernelspec": {
   "display_name": "detection",
   "language": "python",
   "name": "python3"
  },
  "language_info": {
   "codemirror_mode": {
    "name": "ipython",
    "version": 3
   },
   "file_extension": ".py",
   "mimetype": "text/x-python",
   "name": "python",
   "nbconvert_exporter": "python",
   "pygments_lexer": "ipython3",
   "version": "3.9.18"
  }
 },
 "nbformat": 4,
 "nbformat_minor": 2
}
